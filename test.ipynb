{
 "cells": [
  {
   "cell_type": "code",
   "execution_count": 1,
   "metadata": {},
   "outputs": [],
   "source": [
    "import numpy as np\n",
    "from gob import GOB\n",
    "from gob import create_bounds\n",
    "import matplotlib.pyplot as plt"
   ]
  },
  {
   "cell_type": "code",
   "execution_count": 2,
   "metadata": {},
   "outputs": [],
   "source": [
    "algorithms = [\"Direct\", \"CRS\", \"MLSL\", \"CMA-ES\", \"AdaLIPO+\"]\n",
    "benchmarks = [\"Square\", \"Ackley\"]"
   ]
  },
  {
   "cell_type": "code",
   "execution_count": 3,
   "metadata": {},
   "outputs": [],
   "source": [
    "evals = list(range(1, 1000, 10))"
   ]
  },
  {
   "cell_type": "code",
   "execution_count": null,
   "metadata": {},
   "outputs": [],
   "source": [
    "fig, ax = plt.subplots(1, len(benchmarks), figsize=(15, 5))\n",
    "for bench in benchmarks:\n",
    "  for alg in algorithms:\n",
    "    propors = []\n",
    "    for eval in evals:\n",
    "      opt = {alg: {\"n_eval\": eval}}\n",
    "      gob = GOB(\n",
    "        [alg],\n",
    "        [bench],\n",
    "        [\"Proportion\"],\n",
    "        bounds=create_bounds(2, -3, 3, 2),\n",
    "        options=opt,\n",
    "      )\n",
    "      res = gob.run(5)\n",
    "      propors.append(res[bench][alg][\"Proportion\"])\n",
    "    ax[benchmarks.index(bench)].plot(evals, propors, label=alg)\n",
    "    ax[benchmarks.index(bench)].legend()\n",
    "  ax[benchmarks.index(bench)].set_title(bench)\n"
   ]
  },
  {
   "cell_type": "code",
   "execution_count": null,
   "metadata": {},
   "outputs": [],
   "source": []
  }
 ],
 "metadata": {
  "kernelspec": {
   "display_name": "Python 3",
   "language": "python",
   "name": "python3"
  },
  "language_info": {
   "codemirror_mode": {
    "name": "ipython",
    "version": 3
   },
   "file_extension": ".py",
   "mimetype": "text/x-python",
   "name": "python",
   "nbconvert_exporter": "python",
   "pygments_lexer": "ipython3",
   "version": "3.12.7"
  }
 },
 "nbformat": 4,
 "nbformat_minor": 2
}
